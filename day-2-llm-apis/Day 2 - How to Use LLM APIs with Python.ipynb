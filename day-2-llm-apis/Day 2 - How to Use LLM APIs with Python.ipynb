{
 "cells": [
  {
   "cell_type": "markdown",
   "id": "2b895668",
   "metadata": {
    "vscode": {
     "languageId": "plaintext"
    }
   },
   "source": [
    "# 🧰 How to Use OpenAI's API with Python"
   ]
  },
  {
   "cell_type": "code",
   "execution_count": null,
   "id": "227c9c7d",
   "metadata": {},
   "outputs": [
    {
     "name": "stdout",
     "output_type": "stream",
     "text": [
      "Relativity is a theory in physics developed by Albert Einstein that fundamentally changed our understanding of space, time, and gravity. It's split into two main parts: special relativity and general relativity.\n",
      "\n",
      "1. **Special Relativity**:\n",
      "   - **Speed of Light**: The core idea is that the speed of light is constant for all observers, no matter how fast they are moving relative to one another. This goes against our everyday experience, where speeds seem to add up. For example, if you're on a train moving at 50 mph and walk forward at 5 mph, someone standing still would see you moving at 55 mph. But light doesn't work this way; light speed remains the same for everyone.\n",
      "   - **Time Dilation**: Time isn't absolute and can be experienced differently depending on your relative speed. If you're traveling near the speed of light, time moves slower for you compared to someone at rest. This means clocks on fast-moving spaceships tick more slowly relative to those on Earth.\n",
      "   - **Length Contraction**: Just as time can stretch, space can contract. Objects appear shorter in the direction they're moving in if they're traveling close to the speed of light.\n",
      "\n",
      "2. **General Relativity**:\n",
      "   - **Gravity as Curvature**: Instead of viewing gravity as a force between masses (as in Newton's theory), general relativity describes it as a curvature of space and time (spacetime) caused by mass. Imagine spacetime as a fabric; a heavy object like the Sun creates a dent or curve in this fabric, and planets move around the Sun because they're following the curved paths in this \"fabric.\"\n",
      "   - **Gravitational Time Dilation**: Time runs slower in stronger gravitational fields. For example, a clock closer to a massive object (like Earth) ticks more slowly than a clock further away.\n",
      "\n",
      "Together, these concepts explain phenomena like why GPS satellites need adjustments for time dilation to remain accurate, or why light bends around massive objects like stars or black holes (a phenomenon known as gravitational lensing). Relativity gives us a deeper, more nuanced picture of the universe where rigid notions of space and time dissolve into a more flexible interplay shaped by energy and mass.\n"
     ]
    }
   ],
   "source": [
    "import os\n",
    "from dotenv import load_dotenv, find_dotenv\n",
    "from openai import OpenAI\n",
    "\n",
    "# Load environment variables from a .env file for secure API key management\n",
    "load_dotenv(find_dotenv())\n",
    "\n",
    "# Retrieve the OpenAI API key from environment variables\n",
    "api_key = os.getenv(\"OPENAI_API_KEY\")\n",
    "if not api_key:\n",
    "    raise ValueError(\"Missing OPENAI_API_KEY in environment variables.\")\n",
    "\n",
    "# Initialize the OpenAI client with the API key\n",
    "client = OpenAI(api_key=api_key)\n",
    "\n",
    "try:\n",
    "    # Create a chat completion request to the OpenAI API\n",
    "    response = client.chat.completions.create(\n",
    "        model=\"gpt-4o\",  # Specify the model you want to use\n",
    "        messages=[{\"role\": \"user\", \n",
    "                   \"content\": \"Explain relativity in simple terms.\"}\n",
    "                   ])\n",
    "\n",
    "    # Print the generated response content\n",
    "    print(response.choices[0].message.content)\n",
    "\n",
    "except Exception as e:\n",
    "    # Handle possible exceptions and print an error message\n",
    "    print(f\"An error occurred: {e}\")"
   ]
  },
  {
   "cell_type": "markdown",
   "id": "ccf3ac59",
   "metadata": {},
   "source": [
    "# 💻 Running LLMs Locally with Ollama"
   ]
  },
  {
   "cell_type": "code",
   "execution_count": null,
   "id": "092b6d0e",
   "metadata": {},
   "outputs": [],
   "source": [
    "# Then pull a model\n",
    "!ollama pull llama3.2:1b\n",
    "\n",
    "# Run the model\n",
    "!ollama run llama3.2:1b"
   ]
  },
  {
   "cell_type": "code",
   "execution_count": null,
   "id": "7226e5af",
   "metadata": {},
   "outputs": [
    {
     "name": "stdout",
     "output_type": "stream",
     "text": [
      "The 42 concept. It's a popular meme and cultural reference that originated from a quote by Douglas Adams, the author of \"The Hitchhiker's Guide to the Galaxy\" series.\n",
      "\n",
      "In the book, a supercomputer named Deep Thought is asked to calculate the \"Answer to the Ultimate Question of Life, the Universe, and Everything.\" After 7.5 million years of computation, Deep Thought finally reveals that the answer is... 42.\n",
      "\n",
      "However, the characters in the story then realize that they don't actually know what the ultimate question is, making the number 42 meaningless. The quote has since become a symbol for:\n",
      "\n",
      "1. Humility: The idea that there may be many answers to life's mysteries and questions.\n",
      "2. Futility: Recognizing that some problems may be insurmountable or impossible to solve.\n",
      "3. Playfulness: Douglas Adams' humor and wit in using a silly number as the answer.\n",
      "\n",
      "In programming, 42 has been used as a meme to poke fun at complexity or the difficulties of coding. It's often used as a humorous reference point for when someone asks a question that seems simple but is actually complex, or when they're trying to simplify a problem that requires multiple steps.\n",
      "\n",
      "For example:\n",
      "\n",
      "* \"How many eggs does it take to make an omelette?\" The programmer might respond with, \"42!\"\n",
      "* \"What's the difference between 2D and 3D graphics?\" Someone might ask, \"42!\"\n",
      "\n",
      "The use of 42 has become so popular that it's been used in various forms of media, such as memes, jokes, and even a song by Joss Stone. It's a lighthearted way to acknowledge the complexity of problems or the challenges of coding.\n",
      "\n",
      "Overall, the concept of 42 is more about humor and humility than any specific programming language or technology.\n"
     ]
    }
   ],
   "source": [
    "import ollama\n",
    "\n",
    "response = ollama.generate(\n",
    "    model=\"llama3.2:1b\",\n",
    "    prompt=\"Tell me about 42 number in programming\")\n",
    "\n",
    "print(response[\"response\"])"
   ]
  },
  {
   "cell_type": "code",
   "execution_count": null,
   "id": "4c88e87e",
   "metadata": {},
   "outputs": [],
   "source": []
  }
 ],
 "metadata": {
  "kernelspec": {
   "display_name": "llms",
   "language": "python",
   "name": "python3"
  },
  "language_info": {
   "codemirror_mode": {
    "name": "ipython",
    "version": 3
   },
   "file_extension": ".py",
   "mimetype": "text/x-python",
   "name": "python",
   "nbconvert_exporter": "python",
   "pygments_lexer": "ipython3",
   "version": "3.11.13"
  }
 },
 "nbformat": 4,
 "nbformat_minor": 5
}
