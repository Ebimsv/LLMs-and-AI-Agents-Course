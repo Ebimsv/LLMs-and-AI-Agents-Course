{
 "cells": [
  {
   "cell_type": "markdown",
   "id": "6a24c398",
   "metadata": {},
   "source": [
    "# LLMs and Agents in Production: Day 5 - Building a Website Summarizer with Python, Ollama, and Markdown Streaming"
   ]
  },
  {
   "cell_type": "markdown",
   "id": "b4b470cb",
   "metadata": {},
   "source": [
    "Language models are incredibly powerful when combined with real-world data sources like websites. In this hands-on tutorial, we'll build a modular website summarizer using:\n",
    "- 🧼 BeautifulSoup for web scraping\n",
    "- 🦙 Ollama for running open-source LLMs locally\n",
    "- 📜 IPython.display for live streaming summaries in markdown format\n",
    "\n",
    "This project blends the world of web scraping, LLM inference, and interactive display - making it ideal for research, automation, or data mining workflows."
   ]
  },
  {
   "cell_type": "markdown",
   "id": "cb76c3dc",
   "metadata": {},
   "source": [
    "## Install packages: requests, beautifulsoup4, openai, IPython"
   ]
  },
  {
   "cell_type": "code",
   "execution_count": 1,
   "id": "c2a06c44",
   "metadata": {},
   "outputs": [],
   "source": [
    "# !pip install requests beautifulsoup4 openai ipython"
   ]
  },
  {
   "cell_type": "markdown",
   "id": "279e3294",
   "metadata": {},
   "source": [
    "You also need to install and run Ollama:"
   ]
  },
  {
   "cell_type": "code",
   "execution_count": null,
   "id": "6a8d6831",
   "metadata": {},
   "outputs": [
    {
     "name": "stdout",
     "output_type": "stream",
     "text": [
      ">>> Cleaning up old version at /usr/local/lib/ollama\n",
      "[sudo] password for ebrahim: \n",
      "sudo: a password is required\n",
      "^C\n",
      "\u001b[?2026h\u001b[?25l\u001b[1G⠙ \u001b[K\u001b[?25h\u001b[?2026l\u001b[?2026h\u001b[?25l\u001b[1G⠹ \u001b[K\u001b[?25h\u001b[?2026l\u001b[?2026h\u001b[?25l\u001b[1G⠹ \u001b[K\u001b[?25h\u001b[?2026l\u001b[?2026h\u001b[?25l\u001b[1G⠼ \u001b[K\u001b[?25h\u001b[?2026l\u001b[?2026h\u001b[?25l\u001b[1G⠴ \u001b[K\u001b[?25h\u001b[?2026l\u001b[?2026h\u001b[?25l\u001b[1G⠦ \u001b[K\u001b[?25h\u001b[?2026l\u001b[?2026h\u001b[?25l\u001b[1G⠧ \u001b[K\u001b[?25h\u001b[?2026l\u001b[?2026h\u001b[?25l\u001b[1G⠇ \u001b[K\u001b[?25h\u001b[?2026l\u001b[?2026h\u001b[?25l\u001b[1G⠏ \u001b[K\u001b[?25h\u001b[?2026l\u001b[?2026h\u001b[?25l\u001b[1G⠋ \u001b[K\u001b[?25h\u001b[?2026l\u001b[?2026h\u001b[?25l\u001b[1G⠙ \u001b[K\u001b[?25h\u001b[?2026l\u001b[?2026h\u001b[?25l\u001b[1G⠹ \u001b[K\u001b[?25h\u001b[?2026l\u001b[?2026h\u001b[?25l\u001b[1G⠸ \u001b[K\u001b[?25h\u001b[?2026l\u001b[?2026h\u001b[?25l\u001b[1G⠼ \u001b[K\u001b[?25h\u001b[?2026l\u001b[?2026h\u001b[?25l\u001b[1G⠴ \u001b[K\u001b[?25h\u001b[?2026l\u001b[?2026h\u001b[?25l\u001b[1G⠦ \u001b[K\u001b[?25h\u001b[?2026l\u001b[?2026h\u001b[?25l\u001b[1G⠧ \u001b[K\u001b[?25h\u001b[?2026l\u001b[?2026h\u001b[?25l\u001b[1G⠇ \u001b[K\u001b[?25h\u001b[?2026l\u001b[?2026h\u001b[?25l\u001b[1G⠏ \u001b[K\u001b[?25h\u001b[?2026l\u001b[?2026h\u001b[?25l\u001b[1G⠋ \u001b[K\u001b[?25h\u001b[?2026l\u001b[?25l\u001b[?2026h\u001b[?25l\u001b[1G\u001b[K\u001b[?25h\u001b[?2026l\u001b[2K\u001b[1G\u001b[?25h\u001b[?2004h>>> \u001b[38;5;245mSend a message (/? for help)\u001b[28D\u001b[0m"
     ]
    }
   ],
   "source": [
    "# Install Ollama (https://ollama.com)\n",
    "!curl -fsSL https://ollama.com/install.sh | sh\n",
    "\n",
    "# Start an LLM model (e.g., LLaMA 3.2 with only 1 billion parameters) \n",
    "!ollama run llama3.2:1b"
   ]
  },
  {
   "cell_type": "markdown",
   "id": "d333f311",
   "metadata": {},
   "source": [
    "## Step 1: Website Class - Scrape and Clean"
   ]
  },
  {
   "cell_type": "code",
   "execution_count": 2,
   "id": "fe0af24d",
   "metadata": {},
   "outputs": [],
   "source": [
    "import requests\n",
    "from typing import List\n",
    "from bs4 import BeautifulSoup\n",
    "from IPython.display import Markdown, display, update_display\n",
    "from openai import OpenAI"
   ]
  },
  {
   "cell_type": "code",
   "execution_count": 3,
   "id": "8c07adb4",
   "metadata": {},
   "outputs": [],
   "source": [
    "HEADERS = {\n",
    "    \"User-Agent\": (\n",
    "        \"Mozilla/5.0 (Windows NT 10.0; Win64; x64) AppleWebKit/537.36 \"\n",
    "        \"(KHTML, like Gecko) Chrome/117.0.0.0 Safari/537.36\"\n",
    "    )\n",
    "}\n",
    "class Website:\n",
    "    def __init__(self, url: str):\n",
    "        self.url = url\n",
    "        self.title, self.text = self._scrape()\n",
    "        \n",
    "    def _scrape(self):\n",
    "        response = requests.get(self.url, headers=HEADERS)\n",
    "        soup = BeautifulSoup(response.content, 'html.parser')\n",
    "        title = soup.title.string if soup.title else \"No title\"\n",
    "        for tag in soup.body([\"script\", \"style\", \"img\", \"input\"]):\n",
    "            tag.decompose()\n",
    "        text = soup.body.get_text(separator=\"\\n\", strip=True)\n",
    "        return title, text\n",
    "    \n",
    "    def as_prompt(self) -> str:\n",
    "        return (\n",
    "            f\"You are looking at a website titled '{self.title}'.\\n\"\n",
    "            \"Summarize its main content in markdown. Ignore menus, ads, or navigation.\\n\\n\"\n",
    "            f\"{self.text}\"\n",
    "        )"
   ]
  },
  {
   "cell_type": "code",
   "execution_count": null,
   "id": "e779c9ca",
   "metadata": {},
   "outputs": [
    {
     "data": {
      "text/plain": [
       "<__main__.Website at 0x73dd0d0c7430>"
      ]
     },
     "execution_count": 6,
     "metadata": {},
     "output_type": "execute_result"
    }
   ],
   "source": [
    "Website(\"https://medium.com/@ebimsv/python-for-ai-week-11-working-with-files-in-python-92870e1a410a\")"
   ]
  },
  {
   "cell_type": "markdown",
   "id": "e296cf77",
   "metadata": {},
   "source": [
    "## Step 2: LLM Setup with Ollama API"
   ]
  },
  {
   "cell_type": "code",
   "execution_count": 4,
   "id": "5ee29354",
   "metadata": {},
   "outputs": [],
   "source": [
    "from openai import OpenAI\n",
    "\n",
    "OLLAMA_CLIENT = OpenAI(base_url=\"http://localhost:11434/v1\", api_key=\"ollama\")\n",
    "MODEL = \"llama3.2:1b\""
   ]
  },
  {
   "cell_type": "markdown",
   "id": "a0126607",
   "metadata": {},
   "source": [
    "- No OpenAI key is needed - ollama is local-first.\n",
    "- You can swap out \"llama3\" with any model you've pulled with Ollama."
   ]
  },
  {
   "cell_type": "markdown",
   "id": "6c049557",
   "metadata": {},
   "source": [
    "## Step 3: Build the Prompt"
   ]
  },
  {
   "cell_type": "code",
   "execution_count": 5,
   "id": "43c5b0d8",
   "metadata": {},
   "outputs": [],
   "source": [
    "SYSTEM_PROMPT = (\n",
    "    \"You are an assistant that analyzes a website's content \"\n",
    "    \"and provides a markdown summary. Ignore ads and navigation.\"\n",
    ")\n",
    "\n",
    "def build_messages(website: Website):\n",
    "    return [\n",
    "        {\"role\": \"system\", \"content\": SYSTEM_PROMPT},\n",
    "        {\"role\": \"user\", \"content\": website.as_prompt()}\n",
    "    ]"
   ]
  },
  {
   "cell_type": "markdown",
   "id": "cb62a480",
   "metadata": {},
   "source": [
    "## Step 4: Stream Markdown Output in Jupyter"
   ]
  },
  {
   "cell_type": "code",
   "execution_count": 6,
   "id": "3f9713b6",
   "metadata": {},
   "outputs": [],
   "source": [
    "from IPython.display import Markdown, display, update_display\n",
    "\n",
    "def summarize_website(url: str):\n",
    "    site = Website(url)\n",
    "    messages = build_messages(site)\n",
    "    stream = OLLAMA_CLIENT.chat.completions.create(\n",
    "        model=MODEL,\n",
    "        messages=messages,\n",
    "        stream=True,\n",
    "    )\n",
    "    response = \"\"\n",
    "    display_handle = display(Markdown(\"\"), display_id=True)\n",
    "    for chunk in stream:\n",
    "        content = chunk.choices[0].delta.content or \"\"\n",
    "        response += content\n",
    "        cleaned = response.replace(\"```\", \"\").replace(\"markdown\", \"\")\n",
    "        update_display(Markdown(cleaned), display_id=display_handle.display_id)\n",
    "    return Markdown(cleaned)"
   ]
  },
  {
   "cell_type": "markdown",
   "id": "b4ef6575",
   "metadata": {},
   "source": [
    "## Example Usage"
   ]
  },
  {
   "cell_type": "code",
   "execution_count": 8,
   "id": "6ef749b9",
   "metadata": {},
   "outputs": [
    {
     "data": {
      "text/markdown": [
       "**File Handling in Python for AI Projects**\n",
       "=====================================================\n",
       "\n",
       "**Introduction**\n",
       "---------------\n",
       "\n",
       "File handling is a fundamental skill in AI development, and it's essential to understand the basics of working with different file formats such as `.txt`, `.csv`, `.json`, `.pickle`, and `.yaml`. In this article, we'll focus on using Python's built-in modules for file operations.\n",
       "\n",
       "**Common File Modes**\n",
       "---------------------\n",
       "\n",
       "Python uses several file modes to open files:\n",
       "\n",
       "*   `'r'`: Read (default)\n",
       "*   `'w'`: Write\n",
       "*   `'a'`: Append\n",
       "*   `'b'`: Binary mode (Combine with other modes for binary files)\n",
       "*   `'x'`: Exclusive creation (Create a file, fail if it exists)\n",
       "*   `'+'`: Read and write combined\n",
       "\n",
       "**Working with Text Files (.txt)**\n",
       "----------------------------------\n",
       "\n",
       "Text files are used for storing logs, plain data, or simple structured information.\n",
       "\n",
       "*   Example: Reading stopwords from a file:\n",
       "    python\n",
       "import openpyxl as opx\n",
       "\n",
       "with open('stopwords.txt', 'r') as file:\n",
       "    stopwords = [line.strip() for line in file]\n",
       "\n",
       "print(\"Stopwords:\", stopwords)\n",
       "\n",
       "\n",
       "**Working with CSV Files (.csv)**\n",
       "------------------------------\n",
       "\n",
       "CSV (Comma-Separated Values) is the most common format for storing tabular datasets.\n",
       "\n",
       "*   Example: Loading a dataset from a CSV file:\n",
       "    python\n",
       "import csv\n",
       "\n",
       "with open('iris.csv', 'r') as file:\n",
       "    reader = csv.reader(file)\n",
       "    header = next(reader)\n",
       "    data = [row for row in reader]\n",
       "\n",
       "print(\"Header:\", header)\n",
       "print(\"First Row:\", data[0])\n",
       "\n",
       "\n",
       "**Working with JSON Files (.json)**\n",
       "----------------------------------\n",
       "\n",
       "JSON (JavaScript Object Notation) is widely used for structured data and configurations.\n",
       "\n",
       "*   Example: Loading model parameters from a JSON file:\n",
       "    python\n",
       "import json\n",
       "\n",
       "with open('config.json', 'r') as file:\n",
       "    config = json.load(file)\n",
       "\n",
       "print(\"Config:\", config)\n",
       "\n",
       "\n",
       "**Working with Pickle Files (.pickle)**\n",
       "-----------------------------------------\n",
       "\n",
       "Pickle is Python's built-in module for serializing and deserializing objects.\n",
       "\n",
       "*   Example: Saving a trained model using pickle:\n",
       "    python\n",
       "import pickle\n",
       "\n",
       "from sklearn.linear_model import LogisticRegression\n",
       "\n",
       "# Dummy model\n",
       "model = LogisticRegression()\n",
       "\n",
       "with open('model.pkl', 'wb') as file:\n",
       "    pickle.dump(model, file)\n",
       "\n",
       "\n",
       "**Working with YAML Files (.yaml)**\n",
       "-----------------------------------\n",
       "\n",
       "YAML (Yang's Notation) is human-readable and often used for configuration files in ML experiments.\n",
       "\n",
       "*   Example: Loading experiment config from a YAML file:\n",
       "    python\n",
       "import yaml\n",
       "\n",
       "with open('config.yaml', 'r') as file:\n",
       "    config = yaml.safe_load(file)\n",
       "\n",
       "print(\"Model:\", config['model'])\n",
       "print(\"Training Config:\", config['training'])\n",
       "\n",
       "\n",
       "**Best Practices for Safe File Handling**\n",
       "-----------------------------------------------\n",
       "\n",
       "*   Always use `with open(...)`: Automatically closes files, even if exceptions occur.\n",
       "*   Handle exceptions (like `FileNotFoundError`, `PermissionError`): Make your code robust.\n",
       "*   Check file existence using `os.path.exists()`.\n",
       "*   Keep config/data separate from source code for clean project organization.\n",
       "\n",
       "**Summary**\n",
       "------------\n",
       "\n",
       "File handling is an essential skill in AI development. This article covers common file modes, working with text files, CSV files, JSON files, pickle files, and YAML files using Python's built-in modules. By following best practices for safe file handling, you can ensure reliable performance with real-world data."
      ],
      "text/plain": [
       "<IPython.core.display.Markdown object>"
      ]
     },
     "metadata": {},
     "output_type": "display_data"
    },
    {
     "data": {
      "text/markdown": [
       "**File Handling in Python for AI Projects**\n",
       "=====================================================\n",
       "\n",
       "**Introduction**\n",
       "---------------\n",
       "\n",
       "File handling is a fundamental skill in AI development, and it's essential to understand the basics of working with different file formats such as `.txt`, `.csv`, `.json`, `.pickle`, and `.yaml`. In this article, we'll focus on using Python's built-in modules for file operations.\n",
       "\n",
       "**Common File Modes**\n",
       "---------------------\n",
       "\n",
       "Python uses several file modes to open files:\n",
       "\n",
       "*   `'r'`: Read (default)\n",
       "*   `'w'`: Write\n",
       "*   `'a'`: Append\n",
       "*   `'b'`: Binary mode (Combine with other modes for binary files)\n",
       "*   `'x'`: Exclusive creation (Create a file, fail if it exists)\n",
       "*   `'+'`: Read and write combined\n",
       "\n",
       "**Working with Text Files (.txt)**\n",
       "----------------------------------\n",
       "\n",
       "Text files are used for storing logs, plain data, or simple structured information.\n",
       "\n",
       "*   Example: Reading stopwords from a file:\n",
       "    python\n",
       "import openpyxl as opx\n",
       "\n",
       "with open('stopwords.txt', 'r') as file:\n",
       "    stopwords = [line.strip() for line in file]\n",
       "\n",
       "print(\"Stopwords:\", stopwords)\n",
       "\n",
       "\n",
       "**Working with CSV Files (.csv)**\n",
       "------------------------------\n",
       "\n",
       "CSV (Comma-Separated Values) is the most common format for storing tabular datasets.\n",
       "\n",
       "*   Example: Loading a dataset from a CSV file:\n",
       "    python\n",
       "import csv\n",
       "\n",
       "with open('iris.csv', 'r') as file:\n",
       "    reader = csv.reader(file)\n",
       "    header = next(reader)\n",
       "    data = [row for row in reader]\n",
       "\n",
       "print(\"Header:\", header)\n",
       "print(\"First Row:\", data[0])\n",
       "\n",
       "\n",
       "**Working with JSON Files (.json)**\n",
       "----------------------------------\n",
       "\n",
       "JSON (JavaScript Object Notation) is widely used for structured data and configurations.\n",
       "\n",
       "*   Example: Loading model parameters from a JSON file:\n",
       "    python\n",
       "import json\n",
       "\n",
       "with open('config.json', 'r') as file:\n",
       "    config = json.load(file)\n",
       "\n",
       "print(\"Config:\", config)\n",
       "\n",
       "\n",
       "**Working with Pickle Files (.pickle)**\n",
       "-----------------------------------------\n",
       "\n",
       "Pickle is Python's built-in module for serializing and deserializing objects.\n",
       "\n",
       "*   Example: Saving a trained model using pickle:\n",
       "    python\n",
       "import pickle\n",
       "\n",
       "from sklearn.linear_model import LogisticRegression\n",
       "\n",
       "# Dummy model\n",
       "model = LogisticRegression()\n",
       "\n",
       "with open('model.pkl', 'wb') as file:\n",
       "    pickle.dump(model, file)\n",
       "\n",
       "\n",
       "**Working with YAML Files (.yaml)**\n",
       "-----------------------------------\n",
       "\n",
       "YAML (Yang's Notation) is human-readable and often used for configuration files in ML experiments.\n",
       "\n",
       "*   Example: Loading experiment config from a YAML file:\n",
       "    python\n",
       "import yaml\n",
       "\n",
       "with open('config.yaml', 'r') as file:\n",
       "    config = yaml.safe_load(file)\n",
       "\n",
       "print(\"Model:\", config['model'])\n",
       "print(\"Training Config:\", config['training'])\n",
       "\n",
       "\n",
       "**Best Practices for Safe File Handling**\n",
       "-----------------------------------------------\n",
       "\n",
       "*   Always use `with open(...)`: Automatically closes files, even if exceptions occur.\n",
       "*   Handle exceptions (like `FileNotFoundError`, `PermissionError`): Make your code robust.\n",
       "*   Check file existence using `os.path.exists()`.\n",
       "*   Keep config/data separate from source code for clean project organization.\n",
       "\n",
       "**Summary**\n",
       "------------\n",
       "\n",
       "File handling is an essential skill in AI development. This article covers common file modes, working with text files, CSV files, JSON files, pickle files, and YAML files using Python's built-in modules. By following best practices for safe file handling, you can ensure reliable performance with real-world data."
      ],
      "text/plain": [
       "<IPython.core.display.Markdown object>"
      ]
     },
     "execution_count": 8,
     "metadata": {},
     "output_type": "execute_result"
    }
   ],
   "source": [
    "summarize_website(\"https://medium.com/@ebimsv/python-for-ai-week-11-working-with-files-in-python-92870e1a410a\")"
   ]
  },
  {
   "cell_type": "code",
   "execution_count": null,
   "id": "9bbf75cf",
   "metadata": {},
   "outputs": [],
   "source": []
  }
 ],
 "metadata": {
  "kernelspec": {
   "display_name": "pytorch27",
   "language": "python",
   "name": "python3"
  },
  "language_info": {
   "codemirror_mode": {
    "name": "ipython",
    "version": 3
   },
   "file_extension": ".py",
   "mimetype": "text/x-python",
   "name": "python",
   "nbconvert_exporter": "python",
   "pygments_lexer": "ipython3",
   "version": "3.10.16"
  }
 },
 "nbformat": 4,
 "nbformat_minor": 5
}
